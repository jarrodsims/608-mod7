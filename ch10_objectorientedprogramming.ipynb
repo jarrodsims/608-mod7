{
 "cells": [
  {
   "cell_type": "markdown",
   "id": "63497ec0-deb5-4885-bb15-81adf88843b5",
   "metadata": {},
   "source": [
    "# __CHAPTER 10: OBJECT-ORIENTED PROGRAMMING__\n",
    "## Jarrod Sims"
   ]
  },
  {
   "cell_type": "code",
   "execution_count": null,
   "id": "0b55369b-a9da-4e3d-81dc-c1589c45cf8a",
   "metadata": {},
   "outputs": [],
   "source": []
  },
  {
   "cell_type": "markdown",
   "id": "ad6bc513-86b5-4f46-8c07-3949e693ffe1",
   "metadata": {},
   "source": [
    "## 10.2 Custom Class Accounts"
   ]
  },
  {
   "cell_type": "markdown",
   "id": "47bb9bc2-bc0b-4222-8824-9ec2bf96b5e5",
   "metadata": {},
   "source": [
    "### Test-Driving Class Accounts"
   ]
  },
  {
   "cell_type": "code",
   "execution_count": 7,
   "id": "377ee88e-b8f5-4162-8e66-b52a94cac1ac",
   "metadata": {},
   "outputs": [],
   "source": [
    "from account import Account"
   ]
  },
  {
   "cell_type": "code",
   "execution_count": 8,
   "id": "d89f4817-a3e0-4dba-a90b-078440ec76b5",
   "metadata": {},
   "outputs": [],
   "source": [
    "from decimal import Decimal"
   ]
  },
  {
   "cell_type": "code",
   "execution_count": 9,
   "id": "c1ec6a86-dfc5-4bca-a47a-c2973caf0d36",
   "metadata": {},
   "outputs": [],
   "source": [
    "account1 = Account('John Green', Decimal('50.00'))"
   ]
  },
  {
   "cell_type": "code",
   "execution_count": 10,
   "id": "5e4105a0-d17e-4c99-b30d-4a2dac74ddd5",
   "metadata": {},
   "outputs": [
    {
     "data": {
      "text/plain": [
       "'John Green'"
      ]
     },
     "execution_count": 10,
     "metadata": {},
     "output_type": "execute_result"
    }
   ],
   "source": [
    "account1.name"
   ]
  },
  {
   "cell_type": "code",
   "execution_count": 11,
   "id": "f4e2634d-f7f6-47ac-98a1-86eb184bf998",
   "metadata": {},
   "outputs": [
    {
     "data": {
      "text/plain": [
       "Decimal('50.00')"
      ]
     },
     "execution_count": 11,
     "metadata": {},
     "output_type": "execute_result"
    }
   ],
   "source": [
    "account1.balance"
   ]
  },
  {
   "cell_type": "code",
   "execution_count": 12,
   "id": "83361222-0a10-4165-96f9-7a2d66988488",
   "metadata": {},
   "outputs": [
    {
     "data": {
      "text/plain": [
       "Decimal('75.53')"
      ]
     },
     "execution_count": 12,
     "metadata": {},
     "output_type": "execute_result"
    }
   ],
   "source": [
    "account1.deposit(Decimal('25.53'))\n",
    "account1.balance"
   ]
  },
  {
   "cell_type": "code",
   "execution_count": 14,
   "id": "d622294a-125f-4f08-902a-9d25efaddc2c",
   "metadata": {},
   "outputs": [
    {
     "ename": "ValueError",
     "evalue": "amount must be positive.",
     "output_type": "error",
     "traceback": [
      "\u001b[1;31m---------------------------------------------------------------------------\u001b[0m",
      "\u001b[1;31mValueError\u001b[0m                                Traceback (most recent call last)",
      "Input \u001b[1;32mIn [14]\u001b[0m, in \u001b[0;36m<cell line: 1>\u001b[1;34m()\u001b[0m\n\u001b[1;32m----> 1\u001b[0m \u001b[43maccount1\u001b[49m\u001b[38;5;241;43m.\u001b[39;49m\u001b[43mdeposit\u001b[49m\u001b[43m(\u001b[49m\u001b[43mDecimal\u001b[49m\u001b[43m(\u001b[49m\u001b[38;5;124;43m'\u001b[39;49m\u001b[38;5;124;43m-123.45\u001b[39;49m\u001b[38;5;124;43m'\u001b[39;49m\u001b[43m)\u001b[49m\u001b[43m)\u001b[49m\n",
      "File \u001b[1;32m~\\OneDrive\\Documents\\44-608\\608-mod7\\account.py:23\u001b[0m, in \u001b[0;36mAccount.deposit\u001b[1;34m(self, amount)\u001b[0m\n\u001b[0;32m     21\u001b[0m \u001b[38;5;66;03m# if amount is less than 0.00, raise an exception\u001b[39;00m\n\u001b[0;32m     22\u001b[0m \u001b[38;5;28;01mif\u001b[39;00m amount \u001b[38;5;241m<\u001b[39m Decimal(\u001b[38;5;124m'\u001b[39m\u001b[38;5;124m0.00\u001b[39m\u001b[38;5;124m'\u001b[39m):\n\u001b[1;32m---> 23\u001b[0m     \u001b[38;5;28;01mraise\u001b[39;00m \u001b[38;5;167;01mValueError\u001b[39;00m(\u001b[38;5;124m'\u001b[39m\u001b[38;5;124mamount must be positive.\u001b[39m\u001b[38;5;124m'\u001b[39m)\n\u001b[0;32m     25\u001b[0m \u001b[38;5;28mself\u001b[39m\u001b[38;5;241m.\u001b[39mbalance \u001b[38;5;241m+\u001b[39m\u001b[38;5;241m=\u001b[39m amount\n",
      "\u001b[1;31mValueError\u001b[0m: amount must be positive."
     ]
    }
   ],
   "source": [
    "account1.deposit(Decimal('-123.45'))"
   ]
  },
  {
   "cell_type": "markdown",
   "id": "06d5f1a7-dfaa-49b2-8e57-d8ef66cbc888",
   "metadata": {},
   "source": [
    "### Account Class Definition"
   ]
  },
  {
   "cell_type": "code",
   "execution_count": 7,
   "id": "38233404-7893-47dc-a43d-8c2cad8aa866",
   "metadata": {},
   "outputs": [
    {
     "name": "stdout",
     "output_type": "stream",
     "text": [
      "Jarrod Sims\n"
     ]
    }
   ],
   "source": [
    "print('Jarrod Sims')"
   ]
  },
  {
   "cell_type": "code",
   "execution_count": 5,
   "id": "1e27f3ad-d944-454a-8682-c53712872aba",
   "metadata": {},
   "outputs": [],
   "source": [
    "from decimal import Decimal\n",
    "\n",
    "class Account:\n",
    "    \"\"\"Account class for maintaining a bank account balance.\"\"\""
   ]
  },
  {
   "cell_type": "code",
   "execution_count": 6,
   "id": "040e7891-e27f-4b56-a335-2c9bb63add14",
   "metadata": {},
   "outputs": [
    {
     "data": {
      "text/plain": [
       "\u001b[1;31mInit signature:\u001b[0m \u001b[0mAccount\u001b[0m\u001b[1;33m(\u001b[0m\u001b[1;33m)\u001b[0m\u001b[1;33m\u001b[0m\u001b[1;33m\u001b[0m\u001b[0m\n",
       "\u001b[1;31mDocstring:\u001b[0m      Account class for maintaining a bank account balance.\n",
       "\u001b[1;31mType:\u001b[0m           type\n",
       "\u001b[1;31mSubclasses:\u001b[0m     \n"
      ]
     },
     "metadata": {},
     "output_type": "display_data"
    }
   ],
   "source": [
    "Account?"
   ]
  },
  {
   "cell_type": "code",
   "execution_count": 11,
   "id": "a9aff358-b989-44eb-b1e3-324f5554a2e3",
   "metadata": {},
   "outputs": [],
   "source": [
    "# Initializing Account Objects: Method \n",
    "def __init__(self, name, balance):\n",
    "    \"\"\"Initialize an Account object.\"\"\"\n",
    "    # if balance is less than 0.00, raise an exception\n",
    "    if balance < Decimal('0.00'):\n",
    "        raise ValueError('Initial balance must be >= to 0.00.')\n",
    "        self.name = name\n",
    "        self.balance = balance\n"
   ]
  },
  {
   "cell_type": "code",
   "execution_count": 13,
   "id": "47828c64-a12a-4374-8835-44ceeba3a381",
   "metadata": {},
   "outputs": [],
   "source": [
    "# Method deposit \n",
    "def deposit(self, amount):\n",
    "    \"\"\"Deposit money to the account.\"\"\"\n",
    "    # if amount is less than 0.00, raise an exception\n",
    "    if amount < Decimal('0.00'):\n",
    "        raise ValueError('amount must be positive.')\n",
    "    self.balance += amount"
   ]
  },
  {
   "cell_type": "markdown",
   "id": "d0116750-edb6-46de-82e2-a84112554b83",
   "metadata": {},
   "source": [
    "### 10.2.3 Composition: Object References as Members of Classes"
   ]
  },
  {
   "cell_type": "code",
   "execution_count": 36,
   "id": "e39a1c30-8314-4e35-b564-85cc17a4ee35",
   "metadata": {},
   "outputs": [
    {
     "name": "stdout",
     "output_type": "stream",
     "text": [
      "Jarrod Sims\n"
     ]
    }
   ],
   "source": [
    "print('Jarrod Sims')"
   ]
  },
  {
   "cell_type": "code",
   "execution_count": 22,
   "id": "c1b3fa4b-359a-47fd-af87-98e249cb0d46",
   "metadata": {},
   "outputs": [],
   "source": [
    "def withdraw(self, amount):\n",
    "    \"\"\"Withdraw money from the account.\"\"\"\n",
    "\n",
    "    # if amount is greater than balance, raise an exception\n",
    "    if amount > self.balance:\n",
    "        raise ValueError('amount must be <= to balance.')\n",
    "    elif amount < Decimal('0.00'):\n",
    "        raise ValueError('amount must be positive.')\n",
    "\n",
    "    self.balance -= amount"
   ]
  },
  {
   "cell_type": "code",
   "execution_count": 21,
   "id": "83f95ac1-276c-46f3-abda-df6830732eb7",
   "metadata": {},
   "outputs": [
    {
     "ename": "AttributeError",
     "evalue": "'Account' object has no attribute 'withdraw'",
     "output_type": "error",
     "traceback": [
      "\u001b[1;31m---------------------------------------------------------------------------\u001b[0m",
      "\u001b[1;31mAttributeError\u001b[0m                            Traceback (most recent call last)",
      "Input \u001b[1;32mIn [21]\u001b[0m, in \u001b[0;36m<cell line: 4>\u001b[1;34m()\u001b[0m\n\u001b[0;32m      2\u001b[0m \u001b[38;5;28;01mfrom\u001b[39;00m \u001b[38;5;21;01mdecimal\u001b[39;00m \u001b[38;5;28;01mimport\u001b[39;00m Decimal\n\u001b[0;32m      3\u001b[0m account1 \u001b[38;5;241m=\u001b[39m Account(\u001b[38;5;124m'\u001b[39m\u001b[38;5;124mJohn Green\u001b[39m\u001b[38;5;124m'\u001b[39m, Decimal(\u001b[38;5;124m'\u001b[39m\u001b[38;5;124m50.00\u001b[39m\u001b[38;5;124m'\u001b[39m))\n\u001b[1;32m----> 4\u001b[0m \u001b[43maccount1\u001b[49m\u001b[38;5;241;43m.\u001b[39;49m\u001b[43mwithdraw\u001b[49m(Decimal(\u001b[38;5;124m'\u001b[39m\u001b[38;5;124m20.00\u001b[39m\u001b[38;5;124m'\u001b[39m))\n\u001b[0;32m      5\u001b[0m account1\u001b[38;5;241m.\u001b[39mbalance\n",
      "\u001b[1;31mAttributeError\u001b[0m: 'Account' object has no attribute 'withdraw'"
     ]
    }
   ],
   "source": [
    "from account import Account\n",
    "from decimal import Decimal\n",
    "account1 = Account('John Green', Decimal('50.00'))\n",
    "account1.withdraw(Decimal('20.00'))\n",
    "account1.balance"
   ]
  },
  {
   "cell_type": "markdown",
   "id": "54f56a28-2a1a-4e02-a1f5-f4947b652e86",
   "metadata": {},
   "source": [
    "### 10.3 Controlling Access to Attributes"
   ]
  },
  {
   "cell_type": "code",
   "execution_count": 35,
   "id": "ddec78f7-61d3-42ea-8a9f-20f7e2307656",
   "metadata": {},
   "outputs": [
    {
     "name": "stdout",
     "output_type": "stream",
     "text": [
      "Jarrod Sims\n"
     ]
    }
   ],
   "source": [
    "print('Jarrod Sims')"
   ]
  },
  {
   "cell_type": "code",
   "execution_count": 23,
   "id": "6bed7635-f842-400a-b109-41cf0eb4baee",
   "metadata": {},
   "outputs": [
    {
     "data": {
      "text/plain": [
       "Decimal('50.00')"
      ]
     },
     "execution_count": 23,
     "metadata": {},
     "output_type": "execute_result"
    }
   ],
   "source": [
    "from account import Account \n",
    "from decimal import Decimal\n",
    "account1 = Account('John Green', Decimal('50.00'))\n",
    "account1.balance"
   ]
  },
  {
   "cell_type": "code",
   "execution_count": 25,
   "id": "463970e8-d622-4018-bc3b-6770eb82d1f3",
   "metadata": {},
   "outputs": [
    {
     "data": {
      "text/plain": [
       "Decimal('-1000.00')"
      ]
     },
     "execution_count": 25,
     "metadata": {},
     "output_type": "execute_result"
    }
   ],
   "source": [
    "account1.balance = Decimal('-1000.00')\n",
    "account1.balance"
   ]
  },
  {
   "cell_type": "markdown",
   "id": "2d46c984-d327-4b5e-b386-b4a71ad6356e",
   "metadata": {},
   "source": [
    "### 10.4 Properties for Data Access"
   ]
  },
  {
   "cell_type": "markdown",
   "id": "3ce43cad-1e50-4af8-8d3a-04b38bfbe0a0",
   "metadata": {},
   "source": [
    "### 10.4.1 Test-Driving Class Time"
   ]
  },
  {
   "cell_type": "code",
   "execution_count": 34,
   "id": "49f4942a-9074-41de-914a-8b8487d332e2",
   "metadata": {},
   "outputs": [
    {
     "name": "stdout",
     "output_type": "stream",
     "text": [
      "Jarrod Sims\n"
     ]
    }
   ],
   "source": [
    "print('Jarrod Sims')"
   ]
  },
  {
   "cell_type": "code",
   "execution_count": 27,
   "id": "d2eb4c8a-cf07-456e-a012-12abdab9edd5",
   "metadata": {},
   "outputs": [],
   "source": [
    "from timewithproperties import Time"
   ]
  },
  {
   "cell_type": "code",
   "execution_count": 29,
   "id": "d27b9a06-f6d2-41f1-a252-e4412d00eff5",
   "metadata": {},
   "outputs": [
    {
     "data": {
      "text/plain": [
       "Time(hour=6, minute=30, second=0)"
      ]
     },
     "execution_count": 29,
     "metadata": {},
     "output_type": "execute_result"
    }
   ],
   "source": [
    "wake_up = Time(hour=6, minute=30)\n",
    "wake_up"
   ]
  },
  {
   "cell_type": "code",
   "execution_count": 30,
   "id": "525e49d9-3625-4215-ad8a-432f4d97d843",
   "metadata": {},
   "outputs": [
    {
     "name": "stdout",
     "output_type": "stream",
     "text": [
      "6:30:00 AM\n"
     ]
    }
   ],
   "source": [
    "print(wake_up)"
   ]
  },
  {
   "cell_type": "code",
   "execution_count": 31,
   "id": "b277279d-bbba-4ed9-a376-fe086b9ccb3d",
   "metadata": {},
   "outputs": [
    {
     "data": {
      "text/plain": [
       "6"
      ]
     },
     "execution_count": 31,
     "metadata": {},
     "output_type": "execute_result"
    }
   ],
   "source": [
    "wake_up.hour"
   ]
  },
  {
   "cell_type": "code",
   "execution_count": 33,
   "id": "3d25bd49-0b71-4649-ade7-a26175fc6dbe",
   "metadata": {},
   "outputs": [
    {
     "data": {
      "text/plain": [
       "Time(hour=7, minute=45, second=0)"
      ]
     },
     "execution_count": 33,
     "metadata": {},
     "output_type": "execute_result"
    }
   ],
   "source": [
    "wake_up.set_time(hour=7, minute=45)\n",
    "wake_up"
   ]
  },
  {
   "cell_type": "code",
   "execution_count": 37,
   "id": "4b9fd7a9-1f9e-4eb8-908e-9c0cc7586872",
   "metadata": {},
   "outputs": [
    {
     "data": {
      "text/plain": [
       "Time(hour=6, minute=45, second=0)"
      ]
     },
     "execution_count": 37,
     "metadata": {},
     "output_type": "execute_result"
    }
   ],
   "source": [
    "wake_up.hour = 6\n",
    "wake_up"
   ]
  },
  {
   "cell_type": "code",
   "execution_count": 38,
   "id": "467f6c98-34f1-495e-acc5-37eac7ffd6d5",
   "metadata": {},
   "outputs": [
    {
     "ename": "ValueError",
     "evalue": "Hour (100) must be 0-23",
     "output_type": "error",
     "traceback": [
      "\u001b[1;31m---------------------------------------------------------------------------\u001b[0m",
      "\u001b[1;31mValueError\u001b[0m                                Traceback (most recent call last)",
      "Input \u001b[1;32mIn [38]\u001b[0m, in \u001b[0;36m<cell line: 1>\u001b[1;34m()\u001b[0m\n\u001b[1;32m----> 1\u001b[0m \u001b[43mwake_up\u001b[49m\u001b[38;5;241;43m.\u001b[39;49m\u001b[43mhour\u001b[49m \u001b[38;5;241m=\u001b[39m \u001b[38;5;241m100\u001b[39m\n",
      "File \u001b[1;32m~\\OneDrive\\Documents\\44-608\\608-mod7\\timewithproperties.py:22\u001b[0m, in \u001b[0;36mTime.hour\u001b[1;34m(self, hour)\u001b[0m\n\u001b[0;32m     20\u001b[0m \u001b[38;5;124;03m\"\"\"Set the hour.\"\"\"\u001b[39;00m\n\u001b[0;32m     21\u001b[0m \u001b[38;5;28;01mif\u001b[39;00m \u001b[38;5;129;01mnot\u001b[39;00m (\u001b[38;5;241m0\u001b[39m \u001b[38;5;241m<\u001b[39m\u001b[38;5;241m=\u001b[39m hour \u001b[38;5;241m<\u001b[39m \u001b[38;5;241m24\u001b[39m):\n\u001b[1;32m---> 22\u001b[0m     \u001b[38;5;28;01mraise\u001b[39;00m \u001b[38;5;167;01mValueError\u001b[39;00m(\u001b[38;5;124mf\u001b[39m\u001b[38;5;124m'\u001b[39m\u001b[38;5;124mHour (\u001b[39m\u001b[38;5;132;01m{\u001b[39;00mhour\u001b[38;5;132;01m}\u001b[39;00m\u001b[38;5;124m) must be 0-23\u001b[39m\u001b[38;5;124m'\u001b[39m)\n\u001b[0;32m     24\u001b[0m \u001b[38;5;28mself\u001b[39m\u001b[38;5;241m.\u001b[39m_hour \u001b[38;5;241m=\u001b[39m hour\n",
      "\u001b[1;31mValueError\u001b[0m: Hour (100) must be 0-23"
     ]
    }
   ],
   "source": [
    "wake_up.hour = 100"
   ]
  },
  {
   "cell_type": "markdown",
   "id": "045b527a-869f-4417-b365-3ed176cb48b5",
   "metadata": {},
   "source": [
    "### 10.4.2 Class Time Definition"
   ]
  },
  {
   "cell_type": "code",
   "execution_count": 39,
   "id": "73c88056-de2f-4c4b-9d02-6a8c4fe5e5c9",
   "metadata": {},
   "outputs": [
    {
     "data": {
      "text/plain": [
       "Time(hour=0, minute=0, second=0)"
      ]
     },
     "execution_count": 39,
     "metadata": {},
     "output_type": "execute_result"
    }
   ],
   "source": [
    "from timewithproperties import Time\n",
    "t = Time()\n",
    "t"
   ]
  },
  {
   "cell_type": "code",
   "execution_count": 45,
   "id": "f44911ed-b050-4b01-832c-4c443e3c3af5",
   "metadata": {},
   "outputs": [
    {
     "data": {
      "text/plain": [
       "Time(hour=0, minute=0, second=0)"
      ]
     },
     "execution_count": 45,
     "metadata": {},
     "output_type": "execute_result"
    }
   ],
   "source": [
    "t.time = (12, 30, 45)\n",
    "t"
   ]
  },
  {
   "cell_type": "code",
   "execution_count": 46,
   "id": "8fc5a65e-8442-4f4d-8862-e24db42f2b57",
   "metadata": {},
   "outputs": [
    {
     "data": {
      "text/plain": [
       "(12, 30, 45)"
      ]
     },
     "execution_count": 46,
     "metadata": {},
     "output_type": "execute_result"
    }
   ],
   "source": [
    "t.time"
   ]
  },
  {
   "cell_type": "markdown",
   "id": "788e506c-dd64-4c35-a560-78857dcd429a",
   "metadata": {},
   "source": [
    "### 10.4.3 Class Time Definition Design Notes"
   ]
  },
  {
   "cell_type": "code",
   "execution_count": 56,
   "id": "cac29c71-91fb-4a12-975c-15a5d550bab8",
   "metadata": {},
   "outputs": [
    {
     "name": "stdout",
     "output_type": "stream",
     "text": [
      "Jarrod Sims\n"
     ]
    }
   ],
   "source": [
    "print('Jarrod Sims')"
   ]
  },
  {
   "cell_type": "code",
   "execution_count": 47,
   "id": "7e8ba3e9-0aa4-45ef-8767-ed08364bfed1",
   "metadata": {},
   "outputs": [
    {
     "data": {
      "text/plain": [
       "7"
      ]
     },
     "execution_count": 47,
     "metadata": {},
     "output_type": "execute_result"
    }
   ],
   "source": [
    "from timewithproperties import Time\n",
    "wake_up = Time(hour=7, minute=45, second=30)\n",
    "wake_up._hour"
   ]
  },
  {
   "cell_type": "code",
   "execution_count": 49,
   "id": "b320b2b9-8e3c-4653-9d41-94d24d77984e",
   "metadata": {},
   "outputs": [
    {
     "data": {
      "text/plain": [
       "Time(hour=100, minute=45, second=30)"
      ]
     },
     "execution_count": 49,
     "metadata": {},
     "output_type": "execute_result"
    }
   ],
   "source": [
    "wake_up._hour = 100\n",
    "wake_up"
   ]
  },
  {
   "cell_type": "markdown",
   "id": "2bef93ac-3e23-47b4-a250-ea6d0a403093",
   "metadata": {},
   "source": [
    "### 10.5 Simulating \"Private\" Attributes"
   ]
  },
  {
   "cell_type": "code",
   "execution_count": 57,
   "id": "0c3ca896-44d9-4679-99dc-2ad977e72c64",
   "metadata": {},
   "outputs": [
    {
     "name": "stdout",
     "output_type": "stream",
     "text": [
      "Jarrod Sims\n"
     ]
    }
   ],
   "source": [
    "print('Jarrod Sims')"
   ]
  },
  {
   "cell_type": "code",
   "execution_count": 50,
   "id": "0afad6ff-6347-4ac9-927f-fc782a8f15dd",
   "metadata": {},
   "outputs": [],
   "source": [
    "from private import PrivateClass\n",
    "my_object = PrivateClass()"
   ]
  },
  {
   "cell_type": "code",
   "execution_count": 51,
   "id": "1ceef9eb-a47c-4448-8328-f992f76aac25",
   "metadata": {},
   "outputs": [
    {
     "ename": "AttributeError",
     "evalue": "'PrivateClass' object has no attribute '__private_data'",
     "output_type": "error",
     "traceback": [
      "\u001b[1;31m---------------------------------------------------------------------------\u001b[0m",
      "\u001b[1;31mAttributeError\u001b[0m                            Traceback (most recent call last)",
      "Input \u001b[1;32mIn [51]\u001b[0m, in \u001b[0;36m<cell line: 1>\u001b[1;34m()\u001b[0m\n\u001b[1;32m----> 1\u001b[0m \u001b[43mmy_object\u001b[49m\u001b[38;5;241;43m.\u001b[39;49m\u001b[43m__private_data\u001b[49m\n",
      "\u001b[1;31mAttributeError\u001b[0m: 'PrivateClass' object has no attribute '__private_data'"
     ]
    }
   ],
   "source": [
    "my_object.__private_data"
   ]
  },
  {
   "cell_type": "code",
   "execution_count": 53,
   "id": "79f7d9d3-636f-4275-8150-164132586fcf",
   "metadata": {},
   "outputs": [
    {
     "data": {
      "text/plain": [
       "'private'"
      ]
     },
     "execution_count": 53,
     "metadata": {},
     "output_type": "execute_result"
    }
   ],
   "source": [
    "my_object._PrivateClass__private_data"
   ]
  },
  {
   "cell_type": "code",
   "execution_count": 55,
   "id": "f6b7d98e-1466-43ce-bb08-0938912bbf56",
   "metadata": {},
   "outputs": [
    {
     "data": {
      "text/plain": [
       "'modified'"
      ]
     },
     "execution_count": 55,
     "metadata": {},
     "output_type": "execute_result"
    }
   ],
   "source": [
    "my_object._PrivateClass__private_data = 'modified'\n",
    "my_object._PrivateClass__private_data"
   ]
  },
  {
   "cell_type": "markdown",
   "id": "cd4f8557-b56c-4c57-9af3-4b0bd92a9db7",
   "metadata": {},
   "source": [
    "### 10.6 Case Study: Card Shuffling and Dealing Simulation"
   ]
  },
  {
   "cell_type": "code",
   "execution_count": 67,
   "id": "1f7405a1-fa21-40e3-a58a-40960b5931d0",
   "metadata": {},
   "outputs": [
    {
     "name": "stdout",
     "output_type": "stream",
     "text": [
      "JArrod Sims\n"
     ]
    }
   ],
   "source": [
    "print('JArrod Sims')"
   ]
  },
  {
   "cell_type": "code",
   "execution_count": 60,
   "id": "c9d5dfaa-05ab-43df-8d9d-142e4be2cc4c",
   "metadata": {},
   "outputs": [
    {
     "name": "stdout",
     "output_type": "stream",
     "text": [
      "Ace of Hearts      2 of Hearts        3 of Hearts        4 of Hearts        \n",
      "5 of Hearts        6 of Hearts        7 of Hearts        8 of Hearts        \n",
      "9 of Hearts        10 of Hearts       Jack of Hearts     Queen of Hearts    \n",
      "King of Hearts     Ace of Diamonds    2 of Diamonds      3 of Diamonds      \n",
      "4 of Diamonds      5 of Diamonds      6 of Diamonds      7 of Diamonds      \n",
      "8 of Diamonds      9 of Diamonds      10 of Diamonds     Jack of Diamonds   \n",
      "Queen of Diamonds  King of Diamonds   Ace of Clubs       2 of Clubs         \n",
      "3 of Clubs         4 of Clubs         5 of Clubs         6 of Clubs         \n",
      "7 of Clubs         8 of Clubs         9 of Clubs         10 of Clubs        \n",
      "Jack of Clubs      Queen of Clubs     King of Clubs      Ace of Spades      \n",
      "2 of Spades        3 of Spades        4 of Spades        5 of Spades        \n",
      "6 of Spades        7 of Spades        8 of Spades        9 of Spades        \n",
      "10 of Spades       Jack of Spades     Queen of Spades    King of Spades     \n",
      "\n"
     ]
    }
   ],
   "source": [
    "from deck import DeckOfCards\n",
    "deck_of_cards = DeckOfCards()\n",
    "print(deck_of_cards)"
   ]
  },
  {
   "cell_type": "code",
   "execution_count": 61,
   "id": "df002b5d-52fc-449c-8ac5-42d93a0889a3",
   "metadata": {},
   "outputs": [],
   "source": [
    "deck_of_cards.shuffle()"
   ]
  },
  {
   "cell_type": "code",
   "execution_count": 62,
   "id": "595ac8d5-d9fc-4ecc-9a9c-07ad2abe1918",
   "metadata": {},
   "outputs": [
    {
     "name": "stdout",
     "output_type": "stream",
     "text": [
      "10 of Diamonds     7 of Spades        King of Diamonds   King of Hearts     \n",
      "6 of Hearts        5 of Spades        8 of Clubs         9 of Diamonds      \n",
      "Queen of Clubs     8 of Spades        Ace of Diamonds    King of Clubs      \n",
      "Queen of Diamonds  3 of Diamonds      Jack of Diamonds   5 of Hearts        \n",
      "5 of Clubs         2 of Hearts        Jack of Spades     Ace of Hearts      \n",
      "7 of Hearts        6 of Diamonds      Queen of Spades    Ace of Clubs       \n",
      "Queen of Hearts    9 of Hearts        4 of Clubs         10 of Hearts       \n",
      "8 of Hearts        3 of Spades        7 of Clubs         6 of Spades        \n",
      "4 of Diamonds      Jack of Hearts     9 of Spades        3 of Clubs         \n",
      "7 of Diamonds      King of Spades     10 of Clubs        4 of Spades        \n",
      "2 of Diamonds      6 of Clubs         5 of Diamonds      2 of Spades        \n",
      "2 of Clubs         3 of Hearts        9 of Clubs         10 of Spades       \n",
      "Ace of Spades      4 of Hearts        Jack of Clubs      8 of Diamonds      \n",
      "\n"
     ]
    }
   ],
   "source": [
    "print(deck_of_cards)"
   ]
  },
  {
   "cell_type": "code",
   "execution_count": 63,
   "id": "3a4e1d8a-41ee-47bb-8ce8-9ee380da320e",
   "metadata": {},
   "outputs": [
    {
     "data": {
      "text/plain": [
       "Card(face='10', suit='Diamonds')"
      ]
     },
     "execution_count": 63,
     "metadata": {},
     "output_type": "execute_result"
    }
   ],
   "source": [
    "deck_of_cards.deal_card()"
   ]
  },
  {
   "cell_type": "code",
   "execution_count": 65,
   "id": "897dc7a2-61e2-4231-ab96-17d920268249",
   "metadata": {},
   "outputs": [
    {
     "data": {
      "text/plain": [
       "'King of Diamonds'"
      ]
     },
     "execution_count": 65,
     "metadata": {},
     "output_type": "execute_result"
    }
   ],
   "source": [
    "card = deck_of_cards.deal_card()\n",
    "str(card)"
   ]
  },
  {
   "cell_type": "code",
   "execution_count": 66,
   "id": "7dcb4bd4-98da-4013-917d-64dd0738fa7b",
   "metadata": {},
   "outputs": [
    {
     "data": {
      "text/plain": [
       "'King_of_Diamonds.png'"
      ]
     },
     "execution_count": 66,
     "metadata": {},
     "output_type": "execute_result"
    }
   ],
   "source": [
    "card.image_name"
   ]
  },
  {
   "cell_type": "markdown",
   "id": "b3982f75-ece6-4400-8419-bcceae442ecf",
   "metadata": {},
   "source": [
    "### 10.6.2 Class Card--Introducing Class Attributes (see text)"
   ]
  },
  {
   "cell_type": "code",
   "execution_count": 68,
   "id": "f6892ed3-41c0-49fa-af23-0ed11d228423",
   "metadata": {},
   "outputs": [
    {
     "name": "stdout",
     "output_type": "stream",
     "text": [
      "Jarrod Sims\n"
     ]
    }
   ],
   "source": [
    "print('Jarrod Sims')"
   ]
  },
  {
   "cell_type": "markdown",
   "id": "44ee6834-f198-40c0-ac3f-45812758b864",
   "metadata": {},
   "source": [
    "### 10.6.3 Class DeckofCards see text"
   ]
  },
  {
   "cell_type": "markdown",
   "id": "de03a67f-21ae-44b1-b96f-eff881b4d296",
   "metadata": {},
   "source": [
    "### 10.6.4 Displaying Card Images with Matplotlib"
   ]
  },
  {
   "cell_type": "code",
   "execution_count": 69,
   "id": "4ac57faf-5507-41fc-ab65-d78fce387414",
   "metadata": {},
   "outputs": [
    {
     "name": "stdout",
     "output_type": "stream",
     "text": [
      "Jarrod Sims\n"
     ]
    }
   ],
   "source": [
    "print('Jarrod Sims')"
   ]
  },
  {
   "cell_type": "code",
   "execution_count": 6,
   "id": "2486af41-e0c0-4d3b-a0ef-d6e15119d545",
   "metadata": {},
   "outputs": [
    {
     "name": "stdout",
     "output_type": "stream",
     "text": [
      "Using matplotlib backend: TkAgg\n"
     ]
    }
   ],
   "source": [
    "from deck import DeckOfCards\n",
    "deck_of_cards = DeckOfCards()\n",
    "%matplotlib"
   ]
  },
  {
   "cell_type": "code",
   "execution_count": 7,
   "id": "78ce17a6-4cfb-4cd2-8a18-d6af5a5a9a61",
   "metadata": {},
   "outputs": [],
   "source": [
    "from pathlib import Path\n",
    "path = Path('.').joinpath('card_images')\n",
    "import matplotlib.pyplot as plt\n",
    "import matplotlib.image as mpimg\n",
    "figure, axes_list = plt.subplots(nrows=4, ncols=13)\n",
    "\n",
    "# added next two statements to increase figure size in notebook\n",
    "figure.set_figwidth(16)\n",
    "figure.set_figheight(9)\n",
    "\n",
    "for axes in axes_list.ravel():\n",
    "    axes.get_xaxis().set_visible(False)\n",
    "    axes.get_yaxis().set_visible(False)\n",
    "    image_name = deck_of_cards.deal_card().image_name\n",
    "    img = mpimg.imread(str(path.joinpath(image_name).resolve()))\n",
    "    axes.imshow(img)\n",
    "\n",
    "figure.tight_layout()"
   ]
  },
  {
   "cell_type": "code",
   "execution_count": 1,
   "id": "3116e8d7-b121-4e56-942f-89f71abb8f4f",
   "metadata": {},
   "outputs": [
    {
     "name": "stdout",
     "output_type": "stream",
     "text": [
      "Jarrod Sims\n"
     ]
    }
   ],
   "source": [
    "print('Jarrod Sims')"
   ]
  },
  {
   "cell_type": "code",
   "execution_count": 8,
   "id": "7d636255-043b-4ec3-bd1c-b5ee87a91412",
   "metadata": {},
   "outputs": [],
   "source": [
    "deck_of_cards.shuffle()"
   ]
  },
  {
   "cell_type": "code",
   "execution_count": 9,
   "id": "9c6c2861-3518-4177-9a2c-06968d1fe9d1",
   "metadata": {},
   "outputs": [],
   "source": [
    "figure, axes_list = plt.subplots(nrows=4, ncols=13)\n",
    "\n",
    "# added next two statements to increase figure size in notebook\n",
    "figure.set_figwidth(16)\n",
    "figure.set_figheight(9)\n",
    "\n",
    "for axes in axes_list.ravel():\n",
    "    axes.get_xaxis().set_visible(False)\n",
    "    axes.get_yaxis().set_visible(False)\n",
    "    image_name = deck_of_cards.deal_card().image_name\n",
    "    img = mpimg.imread(str(path.joinpath(image_name).resolve()))\n",
    "    axes.imshow(img)\n",
    "    \n",
    "# added this statement for execution in the notebook\n",
    "figure.tight_layout()"
   ]
  },
  {
   "cell_type": "code",
   "execution_count": 11,
   "id": "f62b4861-782d-48df-8124-da9f44d9aa57",
   "metadata": {},
   "outputs": [],
   "source": [
    "deck_of_cards.shuffle()\n",
    "figure, axes_list = plt.subplots(nrows=2, ncols=5)\n",
    "\n",
    "# added next two statements to increase figure size in notebook\n",
    "figure.set_figwidth(16)\n",
    "figure.set_figheight(9)\n",
    "\n",
    "for axes in axes_list.ravel():\n",
    "     axes.get_xaxis().set_visible(False)\n",
    "     axes.get_yaxis().set_visible(False)\n",
    "     image_name = deck_of_cards.deal_card().image_name\n",
    "     img = mpimg.imread(str(path.joinpath(image_name).resolve()))\n",
    "     axes.imshow(img)\n",
    "\n",
    "figure.tight_layout()"
   ]
  },
  {
   "cell_type": "markdown",
   "id": "c8194767-5ba4-4799-8d37-c002080ab089",
   "metadata": {},
   "source": [
    "### 10.8 Base Class CommissionEmployee"
   ]
  },
  {
   "cell_type": "code",
   "execution_count": 12,
   "id": "e5b86348-5091-4f36-935a-36d2abec2d00",
   "metadata": {},
   "outputs": [
    {
     "name": "stdout",
     "output_type": "stream",
     "text": [
      "Jarrod Sims\n"
     ]
    }
   ],
   "source": [
    "print('Jarrod Sims')"
   ]
  },
  {
   "cell_type": "code",
   "execution_count": 14,
   "id": "7906b1af-5083-45fd-a593-731b7322675c",
   "metadata": {},
   "outputs": [
    {
     "data": {
      "text/plain": [
       "CommissionEmployee: Sue Jones\n",
       "social security number: 333-33-3333\n",
       "gross sales: 10000.00\n",
       "commission rate: 0.06"
      ]
     },
     "execution_count": 14,
     "metadata": {},
     "output_type": "execute_result"
    }
   ],
   "source": [
    "from commissionemployee import CommissionEmployee\n",
    "from decimal import Decimal\n",
    "c = CommissionEmployee('Sue', 'Jones', '333-33-3333',\n",
    "                       Decimal('10000.00'), Decimal('0.06'))\n",
    "c"
   ]
  },
  {
   "cell_type": "code",
   "execution_count": 16,
   "id": "43b5159e-f98a-43cd-9266-3bb56823a615",
   "metadata": {},
   "outputs": [
    {
     "name": "stdout",
     "output_type": "stream",
     "text": [
      "600.00\n"
     ]
    }
   ],
   "source": [
    "print(f'{c.earnings():,.2f}')"
   ]
  },
  {
   "cell_type": "code",
   "execution_count": 17,
   "id": "8287f56d-64dd-4171-b6ab-9894b0a171c7",
   "metadata": {},
   "outputs": [
    {
     "name": "stdout",
     "output_type": "stream",
     "text": [
      "2,000.00\n"
     ]
    }
   ],
   "source": [
    "c.gross_sales = Decimal('20000.00')\n",
    "c.commission_rate = Decimal('0.1')\n",
    "print(f'{c.earnings():,.2f}')"
   ]
  },
  {
   "cell_type": "markdown",
   "id": "ed753b97-ec17-4b0d-85b9-4ef51df9d381",
   "metadata": {},
   "source": [
    "### 10.8.2 Subclass SalariedCommissionEmployee"
   ]
  },
  {
   "cell_type": "code",
   "execution_count": 19,
   "id": "b7cbcb54-1eb2-4ecd-bc97-159b498abb24",
   "metadata": {},
   "outputs": [
    {
     "name": "stdout",
     "output_type": "stream",
     "text": [
      "Bob Lewis 444-44-4444 5000.00 0.04 300.00\n",
      "500.00\n"
     ]
    }
   ],
   "source": [
    "from salariedcommissionemployee import SalariedCommissionEmployee\n",
    "s = SalariedCommissionEmployee('Bob', 'Lewis', '444-44-4444',\n",
    "         Decimal('5000.00'), Decimal('0.04'), Decimal('300.00'))\n",
    "print(s.first_name, s.last_name, s.ssn, s.gross_sales, \n",
    "       s.commission_rate, s.base_salary)\n",
    "print(f'{s.earnings():,.2f}')"
   ]
  },
  {
   "cell_type": "code",
   "execution_count": 20,
   "id": "0df7a0d7-33d9-49b2-aa39-d03450aa7842",
   "metadata": {},
   "outputs": [
    {
     "name": "stdout",
     "output_type": "stream",
     "text": [
      "SalariedCommissionEmployee: Bob Lewis\n",
      "social security number: 444-44-4444\n",
      "gross sales: 10000.00\n",
      "commission rate: 0.05\n",
      "base salary: 1000.00\n"
     ]
    }
   ],
   "source": [
    "s.gross_sales = Decimal('10000.00')\n",
    "s.commission_rate = Decimal('0.05')\n",
    "s.base_salary = Decimal('1000.00')\n",
    "print(s)"
   ]
  },
  {
   "cell_type": "code",
   "execution_count": 21,
   "id": "772e7a01-0d84-4e96-9f10-a4a97ec41b73",
   "metadata": {},
   "outputs": [
    {
     "name": "stdout",
     "output_type": "stream",
     "text": [
      "1,500.00\n"
     ]
    }
   ],
   "source": [
    "print(f'{s.earnings():,.2f}')"
   ]
  },
  {
   "cell_type": "code",
   "execution_count": 22,
   "id": "7d7b3d08-92f7-41fd-a69a-acee4fc514cc",
   "metadata": {},
   "outputs": [
    {
     "data": {
      "text/plain": [
       "True"
      ]
     },
     "execution_count": 22,
     "metadata": {},
     "output_type": "execute_result"
    }
   ],
   "source": [
    "issubclass(SalariedCommissionEmployee, CommissionEmployee)"
   ]
  },
  {
   "cell_type": "code",
   "execution_count": 23,
   "id": "a9901cdd-0c1b-4587-8daa-24a5106f2e49",
   "metadata": {},
   "outputs": [
    {
     "data": {
      "text/plain": [
       "True"
      ]
     },
     "execution_count": 23,
     "metadata": {},
     "output_type": "execute_result"
    }
   ],
   "source": [
    "isinstance(s, CommissionEmployee)"
   ]
  },
  {
   "cell_type": "code",
   "execution_count": 24,
   "id": "8abd2317-922e-4068-b032-06fad66c6fde",
   "metadata": {},
   "outputs": [
    {
     "data": {
      "text/plain": [
       "True"
      ]
     },
     "execution_count": 24,
     "metadata": {},
     "output_type": "execute_result"
    }
   ],
   "source": [
    "isinstance(s, SalariedCommissionEmployee)"
   ]
  },
  {
   "cell_type": "markdown",
   "id": "88d98694-5b7b-4dd4-8d06-120b3c48520d",
   "metadata": {},
   "source": [
    "### 10.8.3 PRocessing CommissionEmployees and SalariedCommissionEmployees Polymorphically"
   ]
  },
  {
   "cell_type": "code",
   "execution_count": 28,
   "id": "c23dcebf-e158-4c4f-addd-d778156cbaef",
   "metadata": {},
   "outputs": [
    {
     "name": "stdout",
     "output_type": "stream",
     "text": [
      "JArrod Sims\n"
     ]
    }
   ],
   "source": [
    "print('JArrod Sims')"
   ]
  },
  {
   "cell_type": "code",
   "execution_count": 25,
   "id": "87bce8a0-8422-41fa-9256-3b379a4d8dfd",
   "metadata": {},
   "outputs": [
    {
     "name": "stdout",
     "output_type": "stream",
     "text": [
      "CommissionEmployee: Sue Jones\n",
      "social security number: 333-33-3333\n",
      "gross sales: 20000.00\n",
      "commission rate: 0.10\n",
      "2,000.00\n",
      "\n",
      "SalariedCommissionEmployee: Bob Lewis\n",
      "social security number: 444-44-4444\n",
      "gross sales: 10000.00\n",
      "commission rate: 0.05\n",
      "base salary: 1000.00\n",
      "1,500.00\n",
      "\n"
     ]
    }
   ],
   "source": [
    "employees = [c, s]\n",
    "for employee in employees:\n",
    "     print(employee)\n",
    "     print(f'{employee.earnings():,.2f}\\n')"
   ]
  },
  {
   "cell_type": "markdown",
   "id": "70a4cc3d-8913-4cfd-89a9-e75a8abd848e",
   "metadata": {},
   "source": [
    "### 10.9 Duck Typing and Polymorphism"
   ]
  },
  {
   "cell_type": "code",
   "execution_count": 27,
   "id": "bd962e1e-ff33-4ce9-8b6e-70e4867525d0",
   "metadata": {},
   "outputs": [
    {
     "name": "stdout",
     "output_type": "stream",
     "text": [
      "Jarrod Sims\n"
     ]
    }
   ],
   "source": [
    "print('Jarrod Sims')"
   ]
  },
  {
   "cell_type": "code",
   "execution_count": 26,
   "id": "d5631ccf-6a93-44dd-902f-1c86591ebd7d",
   "metadata": {},
   "outputs": [
    {
     "name": "stdout",
     "output_type": "stream",
     "text": [
      "CommissionEmployee: Sue Jones\n",
      "social security number: 333-33-3333\n",
      "gross sales: 10000.00\n",
      "commission rate: 0.06\n",
      "600.00\n",
      "\n",
      "SalariedCommissionEmployee: Bob Lewis\n",
      "social security number: 444-44-4444\n",
      "gross sales: 5000.00\n",
      "commission rate: 0.04\n",
      "base salary: 300.00\n",
      "500.00\n",
      "\n",
      "I am a well-paid duck\n",
      "1,000,000.00\n",
      "\n"
     ]
    }
   ],
   "source": [
    "class WellPaidDuck:\n",
    "    def __repr__(self):\n",
    "        return 'I am a well-paid duck'\n",
    "    def earnings(self):\n",
    "        return Decimal('1_000_000.00')\n",
    "    \n",
    "from decimal import Decimal\n",
    "from commissionemployee import CommissionEmployee\n",
    "from salariedcommissionemployee import SalariedCommissionEmployee\n",
    "c = CommissionEmployee('Sue', 'Jones', '333-33-3333',\n",
    "                       Decimal('10000.00'), Decimal('0.06'))\n",
    "s = SalariedCommissionEmployee('Bob', 'Lewis', '444-44-4444',\n",
    "    Decimal('5000.00'), Decimal('0.04'), Decimal('300.00'))\n",
    "d = WellPaidDuck()\n",
    "employees = [c, s, d]\n",
    "for employee in employees:\n",
    "    print(employee)\n",
    "    print(f'{employee.earnings():,.2f}\\n')"
   ]
  },
  {
   "cell_type": "markdown",
   "id": "4df40713-0650-4a13-b181-f575b709cd32",
   "metadata": {},
   "source": [
    "### 10.10 Operator Overloading"
   ]
  },
  {
   "cell_type": "code",
   "execution_count": 29,
   "id": "7ba897bd-0c12-4d54-b9f4-26ab82e8ede2",
   "metadata": {},
   "outputs": [
    {
     "name": "stdout",
     "output_type": "stream",
     "text": [
      "Jarrod Sims\n"
     ]
    }
   ],
   "source": [
    "print('Jarrod Sims')"
   ]
  },
  {
   "cell_type": "code",
   "execution_count": 30,
   "id": "91c16fd0-50b3-49a1-9d9e-4a5e317e8ce8",
   "metadata": {},
   "outputs": [
    {
     "data": {
      "text/plain": [
       "(2 + 4i)"
      ]
     },
     "execution_count": 30,
     "metadata": {},
     "output_type": "execute_result"
    }
   ],
   "source": [
    "from complexnumber import Complex\n",
    "x = Complex(real=2, imaginary=4)\n",
    "x"
   ]
  },
  {
   "cell_type": "code",
   "execution_count": 31,
   "id": "6bb4b484-282f-43fb-a83d-72e23560df97",
   "metadata": {},
   "outputs": [
    {
     "data": {
      "text/plain": [
       "(5 - 1i)"
      ]
     },
     "execution_count": 31,
     "metadata": {},
     "output_type": "execute_result"
    }
   ],
   "source": [
    "y = Complex(real=5, imaginary=-1)\n",
    "y"
   ]
  },
  {
   "cell_type": "code",
   "execution_count": 32,
   "id": "9e05bdd9-2914-43dd-ac79-972a0f268edc",
   "metadata": {},
   "outputs": [
    {
     "data": {
      "text/plain": [
       "(7 + 3i)"
      ]
     },
     "execution_count": 32,
     "metadata": {},
     "output_type": "execute_result"
    }
   ],
   "source": [
    "x + y"
   ]
  },
  {
   "cell_type": "code",
   "execution_count": 33,
   "id": "6d777623-ce3b-4880-9b28-00f0fb1348fb",
   "metadata": {},
   "outputs": [
    {
     "data": {
      "text/plain": [
       "(2 + 4i)"
      ]
     },
     "execution_count": 33,
     "metadata": {},
     "output_type": "execute_result"
    }
   ],
   "source": [
    "x"
   ]
  },
  {
   "cell_type": "code",
   "execution_count": 34,
   "id": "f98b566c-9648-4e0d-9c92-0bde39b1c647",
   "metadata": {},
   "outputs": [
    {
     "data": {
      "text/plain": [
       "(5 - 1i)"
      ]
     },
     "execution_count": 34,
     "metadata": {},
     "output_type": "execute_result"
    }
   ],
   "source": [
    "y"
   ]
  },
  {
   "cell_type": "code",
   "execution_count": 36,
   "id": "35b15afa-2fc8-40c7-b998-18fe9d638785",
   "metadata": {},
   "outputs": [
    {
     "data": {
      "text/plain": [
       "(12 + 2i)"
      ]
     },
     "execution_count": 36,
     "metadata": {},
     "output_type": "execute_result"
    }
   ],
   "source": [
    "x += y\n",
    "x"
   ]
  },
  {
   "cell_type": "code",
   "execution_count": 37,
   "id": "b52733c9-8e49-485e-ace6-7dad687c0910",
   "metadata": {},
   "outputs": [
    {
     "data": {
      "text/plain": [
       "(5 - 1i)"
      ]
     },
     "execution_count": 37,
     "metadata": {},
     "output_type": "execute_result"
    }
   ],
   "source": [
    "y"
   ]
  },
  {
   "cell_type": "code",
   "execution_count": 38,
   "id": "f5a4c014-51fe-4695-9a95-a9e1d5620af9",
   "metadata": {},
   "outputs": [],
   "source": [
    "def __sub__(self, right):\n",
    "    return Complex(self.real - right.real, \n",
    "                   self.imaginary - right.imaginary)\n",
    "\n",
    "def __isub__(self, right):\n",
    "    self.real -= right.real\n",
    "    self.imaginary -= right.imaginary\n",
    "    return self"
   ]
  },
  {
   "cell_type": "code",
   "execution_count": 40,
   "id": "99e5db40-7a74-4c8b-904a-454a1bca1745",
   "metadata": {},
   "outputs": [
    {
     "data": {
      "text/plain": [
       "(-3 + 5i)"
      ]
     },
     "execution_count": 40,
     "metadata": {},
     "output_type": "execute_result"
    }
   ],
   "source": [
    "from complexnumber2 import Complex\n",
    "x = Complex(real=2, imaginary=4)\n",
    "y = Complex(real=5, imaginary=-1)\n",
    "x - y"
   ]
  },
  {
   "cell_type": "code",
   "execution_count": 42,
   "id": "8e988657-e93c-4c1b-ba97-c0952497c640",
   "metadata": {},
   "outputs": [],
   "source": [
    "x -= y"
   ]
  },
  {
   "cell_type": "code",
   "execution_count": 43,
   "id": "bd492b67-c0a5-4b65-a218-977f13c739dc",
   "metadata": {},
   "outputs": [
    {
     "data": {
      "text/plain": [
       "(-8 + 6i)"
      ]
     },
     "execution_count": 43,
     "metadata": {},
     "output_type": "execute_result"
    }
   ],
   "source": [
    "x"
   ]
  },
  {
   "cell_type": "code",
   "execution_count": 44,
   "id": "4550d44f-ac72-4264-95bd-8ff5f2e4a866",
   "metadata": {},
   "outputs": [
    {
     "data": {
      "text/plain": [
       "(5 - 1i)"
      ]
     },
     "execution_count": 44,
     "metadata": {},
     "output_type": "execute_result"
    }
   ],
   "source": [
    "y"
   ]
  },
  {
   "cell_type": "markdown",
   "id": "d1bf5a62-e81e-4746-a724-9e8ea121871f",
   "metadata": {},
   "source": [
    "### 10.11 Exception Class Hierarchy and Custom Exceptions"
   ]
  },
  {
   "cell_type": "markdown",
   "id": "62384c67-1dd5-40b6-8cf8-8607c5bb88d9",
   "metadata": {},
   "source": [
    "### See text"
   ]
  },
  {
   "cell_type": "markdown",
   "id": "a5da1106-30ce-4ffb-99db-cd200c80f439",
   "metadata": {},
   "source": [
    "### 10.12 Named Tuples"
   ]
  },
  {
   "cell_type": "code",
   "execution_count": 47,
   "id": "8833a148-47a2-4b1f-ae7c-d2e832fbab0c",
   "metadata": {},
   "outputs": [
    {
     "name": "stdout",
     "output_type": "stream",
     "text": [
      "Jarrod Sims\n"
     ]
    }
   ],
   "source": [
    "print('Jarrod Sims')"
   ]
  },
  {
   "cell_type": "code",
   "execution_count": 48,
   "id": "85fc360c-684d-404e-a9c6-e14699bdb507",
   "metadata": {},
   "outputs": [
    {
     "data": {
      "text/plain": [
       "'Ace'"
      ]
     },
     "execution_count": 48,
     "metadata": {},
     "output_type": "execute_result"
    }
   ],
   "source": [
    "from collections import namedtuple\n",
    "Card = namedtuple('Card', ['face', 'suit'])\n",
    "card = Card(face='Ace', suit='Spades')\n",
    "card.face"
   ]
  },
  {
   "cell_type": "code",
   "execution_count": 49,
   "id": "9ea4a215-adb1-42bb-b36c-009b59363940",
   "metadata": {},
   "outputs": [
    {
     "data": {
      "text/plain": [
       "'Spades'"
      ]
     },
     "execution_count": 49,
     "metadata": {},
     "output_type": "execute_result"
    }
   ],
   "source": [
    "card.suit"
   ]
  },
  {
   "cell_type": "code",
   "execution_count": 50,
   "id": "e6681e1d-68ab-4883-9e2b-71994ed90d51",
   "metadata": {},
   "outputs": [
    {
     "data": {
      "text/plain": [
       "Card(face='Ace', suit='Spades')"
      ]
     },
     "execution_count": 50,
     "metadata": {},
     "output_type": "execute_result"
    }
   ],
   "source": [
    "card"
   ]
  },
  {
   "cell_type": "code",
   "execution_count": 51,
   "id": "e9b135e0-fac2-45a1-ad6e-b7f587298c53",
   "metadata": {},
   "outputs": [
    {
     "data": {
      "text/plain": [
       "Card(face='Queen', suit='Hearts')"
      ]
     },
     "execution_count": 51,
     "metadata": {},
     "output_type": "execute_result"
    }
   ],
   "source": [
    "values = ['Queen', 'Hearts']\n",
    "card = Card._make(values)\n",
    "card"
   ]
  },
  {
   "cell_type": "code",
   "execution_count": 52,
   "id": "11f5d043-95c3-49a4-bed6-6bbd22b09cc5",
   "metadata": {},
   "outputs": [
    {
     "data": {
      "text/plain": [
       "{'face': 'Queen', 'suit': 'Hearts'}"
      ]
     },
     "execution_count": 52,
     "metadata": {},
     "output_type": "execute_result"
    }
   ],
   "source": [
    "card._asdict()"
   ]
  },
  {
   "cell_type": "code",
   "execution_count": 53,
   "id": "a6e6da56-3b94-4646-b497-96e10195e117",
   "metadata": {},
   "outputs": [
    {
     "name": "stdout",
     "output_type": "stream",
     "text": [
      "13 30 45\n"
     ]
    },
    {
     "data": {
      "text/plain": [
       "Time(hour=13, minute=30, second=45)"
      ]
     },
     "execution_count": 53,
     "metadata": {},
     "output_type": "execute_result"
    }
   ],
   "source": [
    "from collections import namedtuple\n",
    "Time = namedtuple('Time', ['hour', 'minute', 'second'])\n",
    "t = Time(13, 30, 45)\n",
    "print(t.hour, t.minute, t.second)\n",
    "t"
   ]
  },
  {
   "cell_type": "code",
   "execution_count": 55,
   "id": "41cdb31c-10fe-411c-aba3-6dd1b804330b",
   "metadata": {},
   "outputs": [],
   "source": [
    "from dataclasses import dataclass\n",
    "@dataclass\n",
    "class Demo:\n",
    "    x"
   ]
  },
  {
   "cell_type": "markdown",
   "id": "c9e2e834-1424-4cba-a9f7-d02a7a37c345",
   "metadata": {},
   "source": [
    "### 10.13.2 Using the Card Data Class"
   ]
  },
  {
   "cell_type": "code",
   "execution_count": 57,
   "id": "aac65ab7-e3df-4178-bec3-bd90cabf53d3",
   "metadata": {},
   "outputs": [
    {
     "name": "stdout",
     "output_type": "stream",
     "text": [
      "Jarrod Sims\n"
     ]
    }
   ],
   "source": [
    "print('Jarrod Sims')"
   ]
  },
  {
   "cell_type": "code",
   "execution_count": 59,
   "id": "3526093b-6ca9-4b59-a826-d706029de4cc",
   "metadata": {},
   "outputs": [
    {
     "data": {
      "text/plain": [
       "Card(face='Ace', suit='Spades')"
      ]
     },
     "execution_count": 59,
     "metadata": {},
     "output_type": "execute_result"
    }
   ],
   "source": [
    "from carddataclass import Card\n",
    "c1 = Card(Card.FACES[0], Card.SUITS[3])\n",
    "c1"
   ]
  },
  {
   "cell_type": "code",
   "execution_count": 60,
   "id": "ccd104cb-796c-40bd-a2e9-8fd6f4255f5b",
   "metadata": {},
   "outputs": [
    {
     "name": "stdout",
     "output_type": "stream",
     "text": [
      "Ace of Spades\n"
     ]
    }
   ],
   "source": [
    "print(c1)"
   ]
  },
  {
   "cell_type": "code",
   "execution_count": 61,
   "id": "a7cfe980-573d-43d9-b29c-75405768cb4e",
   "metadata": {},
   "outputs": [
    {
     "data": {
      "text/plain": [
       "'Spades'"
      ]
     },
     "execution_count": 61,
     "metadata": {},
     "output_type": "execute_result"
    }
   ],
   "source": [
    "c1.suit"
   ]
  },
  {
   "cell_type": "code",
   "execution_count": 62,
   "id": "5d09da50-4919-4ea0-991d-a5224cfcb785",
   "metadata": {},
   "outputs": [
    {
     "data": {
      "text/plain": [
       "'Ace_of_Spades.png'"
      ]
     },
     "execution_count": 62,
     "metadata": {},
     "output_type": "execute_result"
    }
   ],
   "source": [
    "c1.image_name"
   ]
  },
  {
   "cell_type": "code",
   "execution_count": 63,
   "id": "a000fd5d-02be-4d7c-9d31-56eb67cc7e17",
   "metadata": {},
   "outputs": [
    {
     "data": {
      "text/plain": [
       "Card(face='Ace', suit='Spades')"
      ]
     },
     "execution_count": 63,
     "metadata": {},
     "output_type": "execute_result"
    }
   ],
   "source": [
    "c2 = Card(Card.FACES[0], Card.SUITS[3])\n",
    "c2"
   ]
  },
  {
   "cell_type": "code",
   "execution_count": 64,
   "id": "6cb9a91b-34c7-4c1f-9fba-f31c836ffaae",
   "metadata": {},
   "outputs": [
    {
     "data": {
      "text/plain": [
       "Card(face='Ace', suit='Hearts')"
      ]
     },
     "execution_count": 64,
     "metadata": {},
     "output_type": "execute_result"
    }
   ],
   "source": [
    "c3 = Card(Card.FACES[0], Card.SUITS[0])\n",
    "c3"
   ]
  },
  {
   "cell_type": "code",
   "execution_count": 65,
   "id": "41c348ae-d170-4a1a-b260-e1d33701a4b6",
   "metadata": {},
   "outputs": [
    {
     "data": {
      "text/plain": [
       "True"
      ]
     },
     "execution_count": 65,
     "metadata": {},
     "output_type": "execute_result"
    }
   ],
   "source": [
    "c1 == c2"
   ]
  },
  {
   "cell_type": "code",
   "execution_count": 66,
   "id": "2a9f4ef1-1c67-41dc-a87b-6503daba2371",
   "metadata": {},
   "outputs": [
    {
     "data": {
      "text/plain": [
       "False"
      ]
     },
     "execution_count": 66,
     "metadata": {},
     "output_type": "execute_result"
    }
   ],
   "source": [
    "c1 == c3"
   ]
  },
  {
   "cell_type": "code",
   "execution_count": 67,
   "id": "29998896-6860-42f3-86a8-74f6fa3a9a70",
   "metadata": {},
   "outputs": [
    {
     "data": {
      "text/plain": [
       "True"
      ]
     },
     "execution_count": 67,
     "metadata": {},
     "output_type": "execute_result"
    }
   ],
   "source": [
    "c1 != c3"
   ]
  },
  {
   "cell_type": "code",
   "execution_count": 68,
   "id": "4e5cfe17-08aa-4eea-b447-0245e4cd17d5",
   "metadata": {},
   "outputs": [
    {
     "name": "stdout",
     "output_type": "stream",
     "text": [
      "Ace of Hearts      2 of Hearts        3 of Hearts        4 of Hearts        \n",
      "5 of Hearts        6 of Hearts        7 of Hearts        8 of Hearts        \n",
      "9 of Hearts        10 of Hearts       Jack of Hearts     Queen of Hearts    \n",
      "King of Hearts     Ace of Diamonds    2 of Diamonds      3 of Diamonds      \n",
      "4 of Diamonds      5 of Diamonds      6 of Diamonds      7 of Diamonds      \n",
      "8 of Diamonds      9 of Diamonds      10 of Diamonds     Jack of Diamonds   \n",
      "Queen of Diamonds  King of Diamonds   Ace of Clubs       2 of Clubs         \n",
      "3 of Clubs         4 of Clubs         5 of Clubs         6 of Clubs         \n",
      "7 of Clubs         8 of Clubs         9 of Clubs         10 of Clubs        \n",
      "Jack of Clubs      Queen of Clubs     King of Clubs      Ace of Spades      \n",
      "2 of Spades        3 of Spades        4 of Spades        5 of Spades        \n",
      "6 of Spades        7 of Spades        8 of Spades        9 of Spades        \n",
      "10 of Spades       Jack of Spades     Queen of Spades    King of Spades     \n",
      "\n"
     ]
    }
   ],
   "source": [
    "from deck2 import DeckOfCards\n",
    "deck_of_cards = DeckOfCards()\n",
    "print(deck_of_cards)"
   ]
  },
  {
   "cell_type": "code",
   "execution_count": 71,
   "id": "69da7721-b672-47b2-8638-9b1da576424b",
   "metadata": {},
   "outputs": [
    {
     "data": {
      "text/plain": [
       "Card(face='Ace', suit='Spades')"
      ]
     },
     "execution_count": 71,
     "metadata": {},
     "output_type": "execute_result"
    }
   ],
   "source": [
    "from carddataclass import Card\n",
    "c = Card('Ace', 'Spades')\n",
    "c"
   ]
  },
  {
   "cell_type": "code",
   "execution_count": 73,
   "id": "a94d9886-01ee-421e-8448-2470fd0adc11",
   "metadata": {},
   "outputs": [
    {
     "data": {
      "text/plain": [
       "str"
      ]
     },
     "execution_count": 73,
     "metadata": {},
     "output_type": "execute_result"
    }
   ],
   "source": [
    "type(c.face)"
   ]
  },
  {
   "cell_type": "code",
   "execution_count": 74,
   "id": "a14ce887-cf33-442f-a6c8-fe9c6f98c8ac",
   "metadata": {},
   "outputs": [
    {
     "data": {
      "text/plain": [
       "Card(face=100, suit='Spades')"
      ]
     },
     "execution_count": 74,
     "metadata": {},
     "output_type": "execute_result"
    }
   ],
   "source": [
    "c.face = 100\n",
    "c"
   ]
  },
  {
   "cell_type": "code",
   "execution_count": 75,
   "id": "58b799e5-34d3-4533-9f33-8eb2611326ee",
   "metadata": {},
   "outputs": [
    {
     "data": {
      "text/plain": [
       "int"
      ]
     },
     "execution_count": 75,
     "metadata": {},
     "output_type": "execute_result"
    }
   ],
   "source": [
    "type(c.face)"
   ]
  },
  {
   "cell_type": "markdown",
   "id": "6be4ff2b-0f21-42f3-b4d2-db797d4a3341",
   "metadata": {},
   "source": [
    "### 10.14 Unit Testing with Docstrings and doctest"
   ]
  },
  {
   "cell_type": "markdown",
   "id": "4167f212-67ff-4d16-a715-ca6bd506af1b",
   "metadata": {},
   "source": [
    "### see text"
   ]
  },
  {
   "cell_type": "markdown",
   "id": "6afb23e8-21ed-4ab6-8760-a381a747d58b",
   "metadata": {},
   "source": [
    "### 10.15 Name Spaces and Scopes"
   ]
  },
  {
   "cell_type": "code",
   "execution_count": 76,
   "id": "4d78b90c-e52c-40c1-90d8-3380751b7c7d",
   "metadata": {},
   "outputs": [
    {
     "name": "stdout",
     "output_type": "stream",
     "text": [
      "Jarrod Sims\n"
     ]
    }
   ],
   "source": [
    "print('Jarrod Sims')"
   ]
  },
  {
   "cell_type": "code",
   "execution_count": 78,
   "id": "1da13e85-9297-4d8a-984e-9dc10e6a6ebd",
   "metadata": {},
   "outputs": [
    {
     "name": "stdout",
     "output_type": "stream",
     "text": [
      "local y in print_variables\n",
      "global z\n"
     ]
    }
   ],
   "source": [
    "z = 'global z'\n",
    "\n",
    "def print_variables():\n",
    "    y = 'local y in print_variables'\n",
    "    print(y)\n",
    "    print(z)   \n",
    "\n",
    "print_variables()"
   ]
  },
  {
   "cell_type": "code",
   "execution_count": 80,
   "id": "08f70ba0-1cd3-4c56-8f7b-d29e03db287d",
   "metadata": {},
   "outputs": [
    {
     "data": {
      "text/plain": [
       "'global z'"
      ]
     },
     "execution_count": 80,
     "metadata": {},
     "output_type": "execute_result"
    }
   ],
   "source": [
    "z"
   ]
  },
  {
   "cell_type": "code",
   "execution_count": 81,
   "id": "a079476e-f305-4856-aed0-905808dd021a",
   "metadata": {},
   "outputs": [
    {
     "data": {
      "text/plain": [
       "(5 - 1i)"
      ]
     },
     "execution_count": 81,
     "metadata": {},
     "output_type": "execute_result"
    }
   ],
   "source": [
    "y"
   ]
  },
  {
   "cell_type": "markdown",
   "id": "8d73cc84-84ba-4b4e-ae8d-e5a304b8235b",
   "metadata": {},
   "source": [
    "### 10.16 Intro to Data Science: Time Series and Simple Linear Regression"
   ]
  },
  {
   "cell_type": "code",
   "execution_count": 104,
   "id": "39a0d50b-3cca-4786-96a4-2c6dd55ae0f6",
   "metadata": {},
   "outputs": [
    {
     "name": "stdout",
     "output_type": "stream",
     "text": [
      "Jarrod Sims\n"
     ]
    }
   ],
   "source": [
    "print('Jarrod Sims')"
   ]
  },
  {
   "cell_type": "code",
   "execution_count": 103,
   "id": "4a505337-ed54-4fa5-b1da-00aee6222eeb",
   "metadata": {},
   "outputs": [],
   "source": [
    "c = lambda f: 5 / 9 * (f - 32)\n",
    "temps = [(f, c(f)) for f in range(0, 101, 10)]\n",
    "import pandas as pd\n",
    "\n",
    "temps_df = pd.DataFrame(temps, columns=['Fahrenheit', 'Celsius'])\n",
    "axes = temps_df.plot(x='Fahrenheit', y='Celsius', style='.-')\n",
    "y_label = axes.set_ylabel('Celsius')"
   ]
  },
  {
   "cell_type": "code",
   "execution_count": 106,
   "id": "9c16ed2a-e928-448c-8c1a-b81ebb485c01",
   "metadata": {},
   "outputs": [
    {
     "data": {
      "text/html": [
       "<div>\n",
       "<style scoped>\n",
       "    .dataframe tbody tr th:only-of-type {\n",
       "        vertical-align: middle;\n",
       "    }\n",
       "\n",
       "    .dataframe tbody tr th {\n",
       "        vertical-align: top;\n",
       "    }\n",
       "\n",
       "    .dataframe thead th {\n",
       "        text-align: right;\n",
       "    }\n",
       "</style>\n",
       "<table border=\"1\" class=\"dataframe\">\n",
       "  <thead>\n",
       "    <tr style=\"text-align: right;\">\n",
       "      <th></th>\n",
       "      <th>Date</th>\n",
       "      <th>Value</th>\n",
       "      <th>Anomaly</th>\n",
       "    </tr>\n",
       "  </thead>\n",
       "  <tbody>\n",
       "    <tr>\n",
       "      <th>0</th>\n",
       "      <td>189501</td>\n",
       "      <td>34.2</td>\n",
       "      <td>-3.2</td>\n",
       "    </tr>\n",
       "    <tr>\n",
       "      <th>1</th>\n",
       "      <td>189601</td>\n",
       "      <td>34.7</td>\n",
       "      <td>-2.7</td>\n",
       "    </tr>\n",
       "    <tr>\n",
       "      <th>2</th>\n",
       "      <td>189701</td>\n",
       "      <td>35.5</td>\n",
       "      <td>-1.9</td>\n",
       "    </tr>\n",
       "    <tr>\n",
       "      <th>3</th>\n",
       "      <td>189801</td>\n",
       "      <td>39.6</td>\n",
       "      <td>2.2</td>\n",
       "    </tr>\n",
       "    <tr>\n",
       "      <th>4</th>\n",
       "      <td>189901</td>\n",
       "      <td>36.4</td>\n",
       "      <td>-1.0</td>\n",
       "    </tr>\n",
       "  </tbody>\n",
       "</table>\n",
       "</div>"
      ],
      "text/plain": [
       "     Date  Value  Anomaly\n",
       "0  189501   34.2     -3.2\n",
       "1  189601   34.7     -2.7\n",
       "2  189701   35.5     -1.9\n",
       "3  189801   39.6      2.2\n",
       "4  189901   36.4     -1.0"
      ]
     },
     "execution_count": 106,
     "metadata": {},
     "output_type": "execute_result"
    }
   ],
   "source": [
    "nyc = pd.read_csv('ave_hi_nyc_jan_1895-2018.csv')\n",
    "nyc.head()"
   ]
  },
  {
   "cell_type": "code",
   "execution_count": 105,
   "id": "1fb70274-78c1-40ce-bef3-01a997e20171",
   "metadata": {},
   "outputs": [
    {
     "data": {
      "text/html": [
       "<div>\n",
       "<style scoped>\n",
       "    .dataframe tbody tr th:only-of-type {\n",
       "        vertical-align: middle;\n",
       "    }\n",
       "\n",
       "    .dataframe tbody tr th {\n",
       "        vertical-align: top;\n",
       "    }\n",
       "\n",
       "    .dataframe thead th {\n",
       "        text-align: right;\n",
       "    }\n",
       "</style>\n",
       "<table border=\"1\" class=\"dataframe\">\n",
       "  <thead>\n",
       "    <tr style=\"text-align: right;\">\n",
       "      <th></th>\n",
       "      <th>Date</th>\n",
       "      <th>Value</th>\n",
       "      <th>Anomaly</th>\n",
       "    </tr>\n",
       "  </thead>\n",
       "  <tbody>\n",
       "    <tr>\n",
       "      <th>119</th>\n",
       "      <td>201401</td>\n",
       "      <td>35.5</td>\n",
       "      <td>-1.9</td>\n",
       "    </tr>\n",
       "    <tr>\n",
       "      <th>120</th>\n",
       "      <td>201501</td>\n",
       "      <td>36.1</td>\n",
       "      <td>-1.3</td>\n",
       "    </tr>\n",
       "    <tr>\n",
       "      <th>121</th>\n",
       "      <td>201601</td>\n",
       "      <td>40.8</td>\n",
       "      <td>3.4</td>\n",
       "    </tr>\n",
       "    <tr>\n",
       "      <th>122</th>\n",
       "      <td>201701</td>\n",
       "      <td>42.8</td>\n",
       "      <td>5.4</td>\n",
       "    </tr>\n",
       "    <tr>\n",
       "      <th>123</th>\n",
       "      <td>201801</td>\n",
       "      <td>38.7</td>\n",
       "      <td>1.3</td>\n",
       "    </tr>\n",
       "  </tbody>\n",
       "</table>\n",
       "</div>"
      ],
      "text/plain": [
       "       Date  Value  Anomaly\n",
       "119  201401   35.5     -1.9\n",
       "120  201501   36.1     -1.3\n",
       "121  201601   40.8      3.4\n",
       "122  201701   42.8      5.4\n",
       "123  201801   38.7      1.3"
      ]
     },
     "execution_count": 105,
     "metadata": {},
     "output_type": "execute_result"
    }
   ],
   "source": [
    "nyc.tail()"
   ]
  },
  {
   "cell_type": "code",
   "execution_count": 107,
   "id": "57dd524e-f28a-4c5d-b591-24ed21b84acf",
   "metadata": {},
   "outputs": [
    {
     "data": {
      "text/html": [
       "<div>\n",
       "<style scoped>\n",
       "    .dataframe tbody tr th:only-of-type {\n",
       "        vertical-align: middle;\n",
       "    }\n",
       "\n",
       "    .dataframe tbody tr th {\n",
       "        vertical-align: top;\n",
       "    }\n",
       "\n",
       "    .dataframe thead th {\n",
       "        text-align: right;\n",
       "    }\n",
       "</style>\n",
       "<table border=\"1\" class=\"dataframe\">\n",
       "  <thead>\n",
       "    <tr style=\"text-align: right;\">\n",
       "      <th></th>\n",
       "      <th>Date</th>\n",
       "      <th>Temperature</th>\n",
       "      <th>Anomaly</th>\n",
       "    </tr>\n",
       "  </thead>\n",
       "  <tbody>\n",
       "    <tr>\n",
       "      <th>0</th>\n",
       "      <td>189501</td>\n",
       "      <td>34.2</td>\n",
       "      <td>-3.2</td>\n",
       "    </tr>\n",
       "    <tr>\n",
       "      <th>1</th>\n",
       "      <td>189601</td>\n",
       "      <td>34.7</td>\n",
       "      <td>-2.7</td>\n",
       "    </tr>\n",
       "    <tr>\n",
       "      <th>2</th>\n",
       "      <td>189701</td>\n",
       "      <td>35.5</td>\n",
       "      <td>-1.9</td>\n",
       "    </tr>\n",
       "  </tbody>\n",
       "</table>\n",
       "</div>"
      ],
      "text/plain": [
       "     Date  Temperature  Anomaly\n",
       "0  189501         34.2     -3.2\n",
       "1  189601         34.7     -2.7\n",
       "2  189701         35.5     -1.9"
      ]
     },
     "execution_count": 107,
     "metadata": {},
     "output_type": "execute_result"
    }
   ],
   "source": [
    "nyc.columns = ['Date', 'Temperature', 'Anomaly']\n",
    "nyc.head(3)"
   ]
  },
  {
   "cell_type": "code",
   "execution_count": 108,
   "id": "7d7748e2-e5f7-4d1c-8740-3af428658a86",
   "metadata": {},
   "outputs": [
    {
     "data": {
      "text/plain": [
       "dtype('int64')"
      ]
     },
     "execution_count": 108,
     "metadata": {},
     "output_type": "execute_result"
    }
   ],
   "source": [
    "nyc.Date.dtype"
   ]
  },
  {
   "cell_type": "code",
   "execution_count": 109,
   "id": "f20528c0-fd94-4db4-8049-491746251d91",
   "metadata": {},
   "outputs": [
    {
     "data": {
      "text/html": [
       "<div>\n",
       "<style scoped>\n",
       "    .dataframe tbody tr th:only-of-type {\n",
       "        vertical-align: middle;\n",
       "    }\n",
       "\n",
       "    .dataframe tbody tr th {\n",
       "        vertical-align: top;\n",
       "    }\n",
       "\n",
       "    .dataframe thead th {\n",
       "        text-align: right;\n",
       "    }\n",
       "</style>\n",
       "<table border=\"1\" class=\"dataframe\">\n",
       "  <thead>\n",
       "    <tr style=\"text-align: right;\">\n",
       "      <th></th>\n",
       "      <th>Date</th>\n",
       "      <th>Temperature</th>\n",
       "      <th>Anomaly</th>\n",
       "    </tr>\n",
       "  </thead>\n",
       "  <tbody>\n",
       "    <tr>\n",
       "      <th>0</th>\n",
       "      <td>1895</td>\n",
       "      <td>34.2</td>\n",
       "      <td>-3.2</td>\n",
       "    </tr>\n",
       "    <tr>\n",
       "      <th>1</th>\n",
       "      <td>1896</td>\n",
       "      <td>34.7</td>\n",
       "      <td>-2.7</td>\n",
       "    </tr>\n",
       "    <tr>\n",
       "      <th>2</th>\n",
       "      <td>1897</td>\n",
       "      <td>35.5</td>\n",
       "      <td>-1.9</td>\n",
       "    </tr>\n",
       "  </tbody>\n",
       "</table>\n",
       "</div>"
      ],
      "text/plain": [
       "   Date  Temperature  Anomaly\n",
       "0  1895         34.2     -3.2\n",
       "1  1896         34.7     -2.7\n",
       "2  1897         35.5     -1.9"
      ]
     },
     "execution_count": 109,
     "metadata": {},
     "output_type": "execute_result"
    }
   ],
   "source": [
    "nyc.Date = nyc.Date.floordiv(100)\n",
    "nyc.head(3)"
   ]
  },
  {
   "cell_type": "code",
   "execution_count": 110,
   "id": "2107193f-cffc-489e-913d-af17894040d3",
   "metadata": {},
   "outputs": [
    {
     "data": {
      "text/plain": [
       "count    124.00\n",
       "mean      37.60\n",
       "std        4.54\n",
       "min       26.10\n",
       "25%       34.58\n",
       "50%       37.60\n",
       "75%       40.60\n",
       "max       47.60\n",
       "Name: Temperature, dtype: float64"
      ]
     },
     "execution_count": 110,
     "metadata": {},
     "output_type": "execute_result"
    }
   ],
   "source": [
    "pd.set_option('display.precision', 2)\n",
    "nyc.Temperature.describe()"
   ]
  },
  {
   "cell_type": "code",
   "execution_count": 111,
   "id": "47d3c754-cad2-4ee6-bb09-84fe809deb31",
   "metadata": {},
   "outputs": [],
   "source": [
    "from scipy import stats"
   ]
  },
  {
   "cell_type": "code",
   "execution_count": 112,
   "id": "a1397640-b2f4-4bba-a31f-cc53ab1c3555",
   "metadata": {},
   "outputs": [],
   "source": [
    "linear_regression = stats.linregress(x=nyc.Date,\n",
    "                                     y=nyc.Temperature)\n"
   ]
  },
  {
   "cell_type": "code",
   "execution_count": 113,
   "id": "b400cfff-2f81-4e02-a18c-d11f66ccb307",
   "metadata": {},
   "outputs": [
    {
     "data": {
      "text/plain": [
       "0.014771361132966163"
      ]
     },
     "execution_count": 113,
     "metadata": {},
     "output_type": "execute_result"
    }
   ],
   "source": [
    "linear_regression.slope"
   ]
  },
  {
   "cell_type": "code",
   "execution_count": 114,
   "id": "2a06de12-59ea-4aff-930a-8d45e0b8b7f7",
   "metadata": {},
   "outputs": [
    {
     "data": {
      "text/plain": [
       "8.694993233674289"
      ]
     },
     "execution_count": 114,
     "metadata": {},
     "output_type": "execute_result"
    }
   ],
   "source": [
    "linear_regression.intercept"
   ]
  },
  {
   "cell_type": "code",
   "execution_count": 115,
   "id": "46f01a66-da5d-4f24-b0e4-cd420c5d416e",
   "metadata": {},
   "outputs": [
    {
     "data": {
      "text/plain": [
       "38.51837136113297"
      ]
     },
     "execution_count": 115,
     "metadata": {},
     "output_type": "execute_result"
    }
   ],
   "source": [
    "linear_regression.slope * 2019 + linear_regression.intercept"
   ]
  },
  {
   "cell_type": "code",
   "execution_count": 116,
   "id": "6208881b-9848-4d45-91a6-0651586198e3",
   "metadata": {},
   "outputs": [
    {
     "data": {
      "text/plain": [
       "36.022011329661694"
      ]
     },
     "execution_count": 116,
     "metadata": {},
     "output_type": "execute_result"
    }
   ],
   "source": [
    "linear_regression.slope * 1850 + linear_regression.intercept"
   ]
  },
  {
   "cell_type": "code",
   "execution_count": 117,
   "id": "6b3e80be-7d93-4375-abee-1a20af083ab0",
   "metadata": {},
   "outputs": [
    {
     "data": {
      "text/plain": [
       "(10.0, 70.0)"
      ]
     },
     "execution_count": 117,
     "metadata": {},
     "output_type": "execute_result"
    }
   ],
   "source": [
    "import seaborn as sns\n",
    "sns.set_style('whitegrid')\n",
    "axes = sns.regplot(x=nyc.Date, y=nyc.Temperature)\n",
    "axes.set_ylim(10, 70)"
   ]
  },
  {
   "cell_type": "code",
   "execution_count": 118,
   "id": "a2459f31-dff8-47c7-b56c-17943f6ab8dd",
   "metadata": {},
   "outputs": [
    {
     "data": {
      "text/plain": [
       "2120"
      ]
     },
     "execution_count": 118,
     "metadata": {},
     "output_type": "execute_result"
    }
   ],
   "source": [
    "year = 2019\n",
    "slope = linear_regression.slope\n",
    "intercept = linear_regression.intercept\n",
    "temperature = slope * year + intercept\n",
    "\n",
    "while temperature < 40.0:\n",
    "    year += 1\n",
    "    temperature = slope * year + intercept\n",
    "year"
   ]
  },
  {
   "cell_type": "code",
   "execution_count": null,
   "id": "f2475dc3-0340-476e-8e16-ebbf9d1be9cf",
   "metadata": {},
   "outputs": [],
   "source": []
  }
 ],
 "metadata": {
  "kernelspec": {
   "display_name": "Python 3 (ipykernel)",
   "language": "python",
   "name": "python3"
  },
  "language_info": {
   "codemirror_mode": {
    "name": "ipython",
    "version": 3
   },
   "file_extension": ".py",
   "mimetype": "text/x-python",
   "name": "python",
   "nbconvert_exporter": "python",
   "pygments_lexer": "ipython3",
   "version": "3.9.12"
  }
 },
 "nbformat": 4,
 "nbformat_minor": 5
}
