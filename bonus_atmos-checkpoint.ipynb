{
 "cells": [
  {
   "cell_type": "markdown",
   "id": "0dfe33c3-eac1-44b1-aaec-68142b5cb883",
   "metadata": {},
   "source": [
    "### Mod 7 Bonus: Analysis of Atmospheric C0<sup>2 </sup> Concentration Data"
   ]
  },
  {
   "cell_type": "code",
   "execution_count": 1,
   "id": "4072d3f6-c591-4efe-87d9-4e20715f1414",
   "metadata": {},
   "outputs": [
    {
     "name": "stdout",
     "output_type": "stream",
     "text": [
      "Jarrod Sims\n"
     ]
    }
   ],
   "source": [
    "print('Jarrod Sims')"
   ]
  },
  {
   "cell_type": "code",
   "execution_count": 11,
   "id": "49a8a180-a2e0-406d-b29c-683106bde7b9",
   "metadata": {},
   "outputs": [
    {
     "data": {
      "text/html": [
       "<div>\n",
       "<style scoped>\n",
       "    .dataframe tbody tr th:only-of-type {\n",
       "        vertical-align: middle;\n",
       "    }\n",
       "\n",
       "    .dataframe tbody tr th {\n",
       "        vertical-align: top;\n",
       "    }\n",
       "\n",
       "    .dataframe thead th {\n",
       "        text-align: right;\n",
       "    }\n",
       "</style>\n",
       "<table border=\"1\" class=\"dataframe\">\n",
       "  <thead>\n",
       "    <tr style=\"text-align: right;\">\n",
       "      <th></th>\n",
       "      <th>year</th>\n",
       "      <th>month</th>\n",
       "      <th>decimaldate</th>\n",
       "      <th>average</th>\n",
       "      <th>deseasonalized</th>\n",
       "      <th>ndays</th>\n",
       "      <th>sdev</th>\n",
       "      <th>unc</th>\n",
       "    </tr>\n",
       "  </thead>\n",
       "  <tbody>\n",
       "    <tr>\n",
       "      <th>0</th>\n",
       "      <td>1958</td>\n",
       "      <td>3</td>\n",
       "      <td>1958.2027</td>\n",
       "      <td>315.70</td>\n",
       "      <td>314.43</td>\n",
       "      <td>-1</td>\n",
       "      <td>-9.99</td>\n",
       "      <td>-0.99</td>\n",
       "    </tr>\n",
       "    <tr>\n",
       "      <th>1</th>\n",
       "      <td>1958</td>\n",
       "      <td>4</td>\n",
       "      <td>1958.2877</td>\n",
       "      <td>317.45</td>\n",
       "      <td>315.16</td>\n",
       "      <td>-1</td>\n",
       "      <td>-9.99</td>\n",
       "      <td>-0.99</td>\n",
       "    </tr>\n",
       "    <tr>\n",
       "      <th>2</th>\n",
       "      <td>1958</td>\n",
       "      <td>5</td>\n",
       "      <td>1958.3699</td>\n",
       "      <td>317.51</td>\n",
       "      <td>314.71</td>\n",
       "      <td>-1</td>\n",
       "      <td>-9.99</td>\n",
       "      <td>-0.99</td>\n",
       "    </tr>\n",
       "    <tr>\n",
       "      <th>3</th>\n",
       "      <td>1958</td>\n",
       "      <td>6</td>\n",
       "      <td>1958.4548</td>\n",
       "      <td>317.24</td>\n",
       "      <td>315.14</td>\n",
       "      <td>-1</td>\n",
       "      <td>-9.99</td>\n",
       "      <td>-0.99</td>\n",
       "    </tr>\n",
       "    <tr>\n",
       "      <th>4</th>\n",
       "      <td>1958</td>\n",
       "      <td>7</td>\n",
       "      <td>1958.5370</td>\n",
       "      <td>315.86</td>\n",
       "      <td>315.18</td>\n",
       "      <td>-1</td>\n",
       "      <td>-9.99</td>\n",
       "      <td>-0.99</td>\n",
       "    </tr>\n",
       "  </tbody>\n",
       "</table>\n",
       "</div>"
      ],
      "text/plain": [
       "   year  month  decimaldate  average  deseasonalized  ndays  sdev   unc\n",
       "0  1958      3    1958.2027   315.70          314.43     -1 -9.99 -0.99\n",
       "1  1958      4    1958.2877   317.45          315.16     -1 -9.99 -0.99\n",
       "2  1958      5    1958.3699   317.51          314.71     -1 -9.99 -0.99\n",
       "3  1958      6    1958.4548   317.24          315.14     -1 -9.99 -0.99\n",
       "4  1958      7    1958.5370   315.86          315.18     -1 -9.99 -0.99"
      ]
     },
     "execution_count": 11,
     "metadata": {},
     "output_type": "execute_result"
    }
   ],
   "source": [
    "atmos = pd.read_csv('noaamonthlyco2data.csv')\n",
    "atmos.head()"
   ]
  },
  {
   "cell_type": "code",
   "execution_count": 10,
   "id": "32cf68b7-4f74-46e4-8aea-d84c43ab52cc",
   "metadata": {},
   "outputs": [
    {
     "name": "stdout",
     "output_type": "stream",
     "text": [
      "Jarrod Sims\n"
     ]
    }
   ],
   "source": [
    "print('Jarrod Sims')"
   ]
  },
  {
   "cell_type": "code",
   "execution_count": 12,
   "id": "ae1416ce-920a-4d12-9002-c49d9369c9ed",
   "metadata": {},
   "outputs": [],
   "source": [
    "from scipy import stats\n",
    "linear_regression = stats.linregress(x=atmos.decimaldate,\n",
    "                                     y=atmos.average)"
   ]
  },
  {
   "cell_type": "code",
   "execution_count": 13,
   "id": "5f589844-a9d9-45e4-9806-b709c1aebb90",
   "metadata": {},
   "outputs": [
    {
     "data": {
      "text/plain": [
       "1.6117602445197021"
      ]
     },
     "execution_count": 13,
     "metadata": {},
     "output_type": "execute_result"
    }
   ],
   "source": [
    "linear_regression.slope"
   ]
  },
  {
   "cell_type": "code",
   "execution_count": 14,
   "id": "b623496b-cffb-4a11-873e-7a8e9e896769",
   "metadata": {},
   "outputs": [
    {
     "data": {
      "text/plain": [
       "-2850.637719904576"
      ]
     },
     "execution_count": 14,
     "metadata": {},
     "output_type": "execute_result"
    }
   ],
   "source": [
    "linear_regression.intercept"
   ]
  },
  {
   "cell_type": "code",
   "execution_count": 15,
   "id": "53f4a2bd-f5f5-4dbf-8aaa-c0435d9a3068",
   "metadata": {},
   "outputs": [
    {
     "name": "stdout",
     "output_type": "stream",
     "text": [
      "Jarrod Sims\n"
     ]
    }
   ],
   "source": [
    "print('Jarrod Sims')"
   ]
  },
  {
   "cell_type": "code",
   "execution_count": 16,
   "id": "78c91909-5940-474a-964c-9e80c0d14ee7",
   "metadata": {},
   "outputs": [
    {
     "data": {
      "text/plain": [
       "453.47078136081336"
      ]
     },
     "execution_count": 16,
     "metadata": {},
     "output_type": "execute_result"
    }
   ],
   "source": [
    "linear_regression.slope * 2050 + linear_regression.intercept"
   ]
  },
  {
   "cell_type": "code",
   "execution_count": 19,
   "id": "83e0862d-d1a6-40b5-b499-a9ea6ed8a554",
   "metadata": {},
   "outputs": [
    {
     "data": {
      "image/png": "[encoded data removed]",
      "text/plain": [
       "<Figure size 640x480 with 1 Axes>"
      ]
     },
     "metadata": {},
     "output_type": "display_data"
    }
   ],
   "source": [
    "import seaborn as sns\n",
    "sns.set_style('whitegrid')\n",
    "axes = sns.regplot(x=atmos.decimaldate, y=atmos.average)"
   ]
  },
  {
   "cell_type": "code",
   "execution_count": null,
   "id": "bd82cb92-e554-4426-8e6c-d7843abae89e",
   "metadata": {},
   "outputs": [],
   "source": []
  }
 ],
 "metadata": {
  "kernelspec": {
   "display_name": "Python 3 (ipykernel)",
   "language": "python",
   "name": "python3"
  },
  "language_info": {
   "codemirror_mode": {
    "name": "ipython",
    "version": 3
   },
   "file_extension": ".py",
   "mimetype": "text/x-python",
   "name": "python",
   "nbconvert_exporter": "python",
   "pygments_lexer": "ipython3",
   "version": "3.9.12"
  }
 },
 "nbformat": 4,
 "nbformat_minor": 5
}
